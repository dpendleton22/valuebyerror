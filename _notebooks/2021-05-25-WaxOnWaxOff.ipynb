{
 "cells": [
  {
   "cell_type": "markdown",
   "metadata": {},
   "source": [
    "# Data Science Interviews\n",
    "> \"I've created, facilated and taken data science interviews...I just have a few cents on the process\"\n",
    "\n",
    "- toc: true\n",
    "- branch: master\n",
    "- badges: true\n",
    "- comments: true\n",
    "- categories: [data science interviews, interviewing]\n",
    "- image: https://media.giphy.com/media/GIQkxve3gvNHG/giphy.gif"
   ]
  },
  {
   "cell_type": "markdown",
   "metadata": {},
   "source": [
    "\"I've created, facilated and taken data science interviews...I just have a few cents on the process\"\n",
    "\n",
    "## What This Post is About:\n",
    "Data science interviews and their process....that's it (This isn't about computer science based interviews)\n",
    "\n",
    "## Interviews Should\n",
    "- Match the job day to day \n",
    "- Be project based over a few days\n",
    "- Allow the interviewer to show their imagination (a number of data science solutions and break throughs are not complex but clever)\n",
    "\n",
    "![use_your_head](https://media.giphy.com/media/d3mlE7uhX8KFgEmY/giphy.gif)\n",
    "\n",
    "## Interviews Should Not:\n",
    "- Be computer science algorithm based? (unless using BFS at work it shouldn't be tested)\n",
    "- Involve coding under a clock? I've never missed a project due to needing an extra 30 min. Oh yeah, and EVERYONE uses stackoverflow and google in some capacity\n",
    "![timer](https://media.giphy.com/media/jqScOnk9Dqk7ILU4kF/giphy.gif)\n",
    "\n",
    "## My favorite interviews: \n",
    "- Open ended problem solving projects. It tests my ability to meet a deadline, use my imagination and explain my process but these are also some of the most difficult interviews to create....I've attempted it before"
   ]
  },
  {
   "cell_type": "markdown",
   "metadata": {},
   "source": [
    "## My Dumpster Fire: Creating an interview\n",
    "My team let me lead an interview process for a data science researcher. I made the job description, set the qualifications and created the code interview. This is how it went and what I learned\n",
    "![jobinterview](https://media.giphy.com/media/tZyxxR4lUIRnTgIzl9/giphy.gif)"
   ]
  },
  {
   "cell_type": "markdown",
   "metadata": {},
   "source": [
    "### The Job\n",
    "- Research data scientist\n",
    "\n",
    "### What we were looking for in a candidate\n",
    "- Self starter and highly self motivated developer\n",
    "- Knows enough to be dangerous but also shows the ability to learn\n",
    "- Experienced in python or another programming language \n",
    "- Has some research experience "
   ]
  },
  {
   "cell_type": "markdown",
   "metadata": {},
   "source": [
    "### What I was trying to do:\n",
    "- Create an interview process to determine the right candidates for our research group\n",
    "- Type of interview: Project (1 week)\n",
    "- Data: 3 Open sourced sets from Kaggle (candidate selected one)\n",
    "- Task: Provide analysis of data and how a model would be used to solve a potential problem in that industry"
   ]
  },
  {
   "cell_type": "markdown",
   "metadata": {},
   "source": [
    "### What actually happened:\n",
    "- The removal of creating and implementing a model set the bar too low. By the fourth candidate, we saw very similar analysis presentations\n",
    "- Finding an open sourced dataset was harder than anticpated \n",
    "- Some candidates were confused by our laxed instructions. Saying \"Here's some data, explore it, and tell us what you'd do to it\" left some candidated asking for direction\n",
    "![confused](https://media.giphy.com/media/3o7aCTPPm4OHfRLSH6/giphy.gif)\n",
    "- Only a handful of candidates actually took advantage of pulling in more open sourced data"
   ]
  },
  {
   "cell_type": "markdown",
   "metadata": {},
   "source": [
    "## Candidates: When Interviewing\n",
    "- Don't take it personal. You may think you have work to do but data science interviews also need some fixing\n",
    "- Show some initiative! Start a self-project, you'll be able to show it in every interview\n",
    "- If you have an algorithm on your resume, you should be able to speak to it"
   ]
  },
  {
   "cell_type": "markdown",
   "metadata": {},
   "source": [
    "## Interviewers: When Interviewing\n",
    "- Be your own worst critic. Is what you're asking the candidate to do and answer what you would expect from your current team to know?\n",
    "- Are you structuring interviews to allow for someone to show their creativity? Data science is not just strictly math and code\n",
    "- Is the interview similar to a project they would work on?"
   ]
  },
  {
   "cell_type": "code",
   "execution_count": null,
   "metadata": {},
   "outputs": [],
   "source": []
  }
 ],
 "metadata": {
  "kernelspec": {
   "display_name": "Python 3",
   "language": "python",
   "name": "python3"
  },
  "language_info": {
   "codemirror_mode": {
    "name": "ipython",
    "version": 3
   },
   "file_extension": ".py",
   "mimetype": "text/x-python",
   "name": "python",
   "nbconvert_exporter": "python",
   "pygments_lexer": "ipython3",
   "version": "3.7.4"
  }
 },
 "nbformat": 4,
 "nbformat_minor": 4
}
